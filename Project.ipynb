{
 "cells": [
  {
   "cell_type": "code",
   "execution_count": 1,
   "id": "4e5934e8-c6e2-41ac-a9e8-e5a62de4ff1c",
   "metadata": {},
   "outputs": [
    {
     "name": "stdin",
     "output_type": "stream",
     "text": [
      "Do you want to play against the AI? (y/n):  y\n"
     ]
    },
    {
     "name": "stdout",
     "output_type": "stream",
     "text": [
      "  |   |  \n",
      "--+---+--\n",
      "  |   |  \n",
      "--+---+--\n",
      "  |   |  \n"
     ]
    },
    {
     "name": "stdin",
     "output_type": "stream",
     "text": [
      "Player X, choose a position (1-9):  5\n"
     ]
    },
    {
     "name": "stdout",
     "output_type": "stream",
     "text": [
      "  |   |  \n",
      "--+---+--\n",
      "  | X |  \n",
      "--+---+--\n",
      "  |   |  \n",
      "AI (O) is making a move...\n",
      "  |   |  \n",
      "--+---+--\n",
      "  | X |  \n",
      "--+---+--\n",
      "  |   | O\n"
     ]
    },
    {
     "name": "stdin",
     "output_type": "stream",
     "text": [
      "Player X, choose a position (1-9):  7\n"
     ]
    },
    {
     "name": "stdout",
     "output_type": "stream",
     "text": [
      "  |   |  \n",
      "--+---+--\n",
      "  | X |  \n",
      "--+---+--\n",
      "X |   | O\n",
      "AI (O) is making a move...\n",
      "  |   |  \n",
      "--+---+--\n",
      "  | X | O\n",
      "--+---+--\n",
      "X |   | O\n"
     ]
    },
    {
     "name": "stdin",
     "output_type": "stream",
     "text": [
      "Player X, choose a position (1-9):  3\n"
     ]
    },
    {
     "name": "stdout",
     "output_type": "stream",
     "text": [
      "  |   | X\n",
      "--+---+--\n",
      "  | X | O\n",
      "--+---+--\n",
      "X |   | O\n",
      "Player X wins!\n",
      "Score: X - 1, O - 0, Ties - 0\n"
     ]
    },
    {
     "name": "stdin",
     "output_type": "stream",
     "text": [
      "Do you want to play again? (y/n):  y\n",
      "Do you want to play against the AI? (y/n):  n\n"
     ]
    },
    {
     "name": "stdout",
     "output_type": "stream",
     "text": [
      "  |   |  \n",
      "--+---+--\n",
      "  |   |  \n",
      "--+---+--\n",
      "  |   |  \n"
     ]
    },
    {
     "name": "stdin",
     "output_type": "stream",
     "text": [
      "Player X, choose a position (1-9):  1\n"
     ]
    },
    {
     "name": "stdout",
     "output_type": "stream",
     "text": [
      "X |   |  \n",
      "--+---+--\n",
      "  |   |  \n",
      "--+---+--\n",
      "  |   |  \n"
     ]
    },
    {
     "name": "stdin",
     "output_type": "stream",
     "text": [
      "Player O, choose a position (1-9):  5\n"
     ]
    },
    {
     "name": "stdout",
     "output_type": "stream",
     "text": [
      "X |   |  \n",
      "--+---+--\n",
      "  | O |  \n",
      "--+---+--\n",
      "  |   |  \n"
     ]
    },
    {
     "name": "stdin",
     "output_type": "stream",
     "text": [
      "Player X, choose a position (1-9):  4\n"
     ]
    },
    {
     "name": "stdout",
     "output_type": "stream",
     "text": [
      "X |   |  \n",
      "--+---+--\n",
      "X | O |  \n",
      "--+---+--\n",
      "  |   |  \n"
     ]
    },
    {
     "name": "stdin",
     "output_type": "stream",
     "text": [
      "Player O, choose a position (1-9):  7\n"
     ]
    },
    {
     "name": "stdout",
     "output_type": "stream",
     "text": [
      "X |   |  \n",
      "--+---+--\n",
      "X | O |  \n",
      "--+---+--\n",
      "O |   |  \n"
     ]
    },
    {
     "name": "stdin",
     "output_type": "stream",
     "text": [
      "Player X, choose a position (1-9):  2\n"
     ]
    },
    {
     "name": "stdout",
     "output_type": "stream",
     "text": [
      "X | X |  \n",
      "--+---+--\n",
      "X | O |  \n",
      "--+---+--\n",
      "O |   |  \n"
     ]
    },
    {
     "name": "stdin",
     "output_type": "stream",
     "text": [
      "Player O, choose a position (1-9):  7\n"
     ]
    },
    {
     "name": "stdout",
     "output_type": "stream",
     "text": [
      "That spot is taken!\n"
     ]
    },
    {
     "name": "stdin",
     "output_type": "stream",
     "text": [
      "Player O, choose a position (1-9):  9\n"
     ]
    },
    {
     "name": "stdout",
     "output_type": "stream",
     "text": [
      "X | X |  \n",
      "--+---+--\n",
      "X | O |  \n",
      "--+---+--\n",
      "O |   | O\n"
     ]
    },
    {
     "name": "stdin",
     "output_type": "stream",
     "text": [
      "Player X, choose a position (1-9):  6\n"
     ]
    },
    {
     "name": "stdout",
     "output_type": "stream",
     "text": [
      "X | X |  \n",
      "--+---+--\n",
      "X | O | X\n",
      "--+---+--\n",
      "O |   | O\n"
     ]
    },
    {
     "name": "stdin",
     "output_type": "stream",
     "text": [
      "Player O, choose a position (1-9):  8\n"
     ]
    },
    {
     "name": "stdout",
     "output_type": "stream",
     "text": [
      "X | X |  \n",
      "--+---+--\n",
      "X | O | X\n",
      "--+---+--\n",
      "O | O | O\n",
      "Player O wins!\n",
      "Score: X - 1, O - 1, Ties - 0\n"
     ]
    },
    {
     "name": "stdin",
     "output_type": "stream",
     "text": [
      "Do you want to play again? (y/n):  n\n"
     ]
    },
    {
     "name": "stdout",
     "output_type": "stream",
     "text": [
      "Thanks for playing!\n"
     ]
    }
   ],
   "source": [
    "import random\n",
    "\n",
    "board = [[\" \" for _ in range(3)] for _ in range(3)]\n",
    "\n",
    "def print_board():\n",
    "    for i in range(3):\n",
    "        print(\" | \".join(board[i]))\n",
    "        if i < 2:\n",
    "            print(\"--+---+--\")\n",
    "\n",
    "def ai_move():\n",
    "    empty_spots = [(i, j) for i in range(3) for j in range(3) if board[i][j] == \" \"]\n",
    "    return random.choice(empty_spots)\n",
    "\n",
    "def player_move(player):\n",
    "    while True:\n",
    "        try:\n",
    "            move = int(input(f\"Player {player}, choose a position (1-9): \")) - 1\n",
    "            row = move // 3\n",
    "            col = move % 3\n",
    "            if board[row][col] == \" \":\n",
    "                board[row][col] = player\n",
    "                break\n",
    "            else:\n",
    "                print(\"That spot is taken!\")\n",
    "        except (ValueError, IndexError):\n",
    "            print(\"Invalid input. Choose a number from 1 to 9.\")\n",
    "\n",
    "def check_winner(player):\n",
    "    # Rows and columns\n",
    "    for i in range(3):\n",
    "        if all(board[i][j] == player for j in range(3)):  # Check rows\n",
    "            return True\n",
    "        if all(board[j][i] == player for j in range(3)):  # Check columns\n",
    "            return True\n",
    "\n",
    "    # Diagonals\n",
    "    if all(board[i][i] == player for i in range(3)):\n",
    "        return True\n",
    "    if all(board[i][2 - i] == player for i in range(3)):\n",
    "        return True\n",
    "\n",
    "    return False\n",
    "\n",
    "def play_game(is_single_player):\n",
    "    current_player = \"X\"\n",
    "    for _ in range(9):\n",
    "        print_board()\n",
    "\n",
    "        # Player move\n",
    "        if current_player == \"X\" or not is_single_player:\n",
    "            player_move(current_player)\n",
    "        else:\n",
    "            print(f\"AI ({current_player}) is making a move...\")\n",
    "            row, col = ai_move()\n",
    "            board[row][col] = current_player\n",
    "        \n",
    "        # Check for winner\n",
    "        if check_winner(current_player):\n",
    "            print_board()\n",
    "            print(f\"Player {current_player} wins!\")\n",
    "            return current_player  # Return the winner\n",
    "        \n",
    "        current_player = \"O\" if current_player == \"X\" else \"X\"\n",
    "\n",
    "    print_board()\n",
    "    print(\"It's a tie!\")\n",
    "    return \"Tie\"  # Return \"Tie\" if the game ends in a tie\n",
    "\n",
    "# Score tracker\n",
    "player_x_score = 0\n",
    "player_o_score = 0\n",
    "ties = 0\n",
    "\n",
    "# Bonus things ^-^:\n",
    "while True:\n",
    "    # Ask if the user wants to play against the AI or with another player\n",
    "    is_single_player = input(\"Do you want to play against the AI? (y/n): \").lower() == 'y'\n",
    "\n",
    "    # Reset board at the beginning of each game\n",
    "    board = [[\" \" for _ in range(3)] for _ in range(3)]\n",
    "\n",
    "    # Start the game and get the result (X, O, or Tie)\n",
    "    result = play_game(is_single_player)\n",
    "\n",
    "    # Update score\n",
    "    if result == \"X\":\n",
    "        player_x_score += 1\n",
    "    elif result == \"O\":\n",
    "        player_o_score += 1\n",
    "    else:\n",
    "        ties += 1\n",
    "\n",
    "    # Display the current score\n",
    "    print(f\"Score: X - {player_x_score}, O - {player_o_score}, Ties - {ties}\")\n",
    "\n",
    "    # Ask if the player wants to play again\n",
    "    again = input(\"Do you want to play again? (y/n): \").lower()\n",
    "    if again != \"y\":\n",
    "        print(\"Thanks for playing!\")\n",
    "        break\n"
   ]
  },
  {
   "cell_type": "code",
   "execution_count": null,
   "id": "359c0fd7-71a7-4fe8-9699-b4dd02f4441d",
   "metadata": {},
   "outputs": [],
   "source": []
  },
  {
   "cell_type": "code",
   "execution_count": null,
   "id": "f5857703-92ec-4fca-b73e-097fca2d3181",
   "metadata": {},
   "outputs": [],
   "source": []
  }
 ],
 "metadata": {
  "kernelspec": {
   "display_name": "Python [conda env:base] *",
   "language": "python",
   "name": "conda-base-py"
  },
  "language_info": {
   "codemirror_mode": {
    "name": "ipython",
    "version": 3
   },
   "file_extension": ".py",
   "mimetype": "text/x-python",
   "name": "python",
   "nbconvert_exporter": "python",
   "pygments_lexer": "ipython3",
   "version": "3.12.7"
  }
 },
 "nbformat": 4,
 "nbformat_minor": 5
}
